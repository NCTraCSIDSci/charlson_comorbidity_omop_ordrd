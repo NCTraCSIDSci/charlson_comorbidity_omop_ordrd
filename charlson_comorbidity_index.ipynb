{
 "cells": [
  {
   "cell_type": "markdown",
   "id": "693171ee-bfe6-4d51-8007-5ea9a209094b",
   "metadata": {
    "tags": []
   },
   "source": [
    "# Charlson Comorbidity Index - Python\n",
    "\n",
    "This calculation of the Charlson Comorbidity Index (CCI) has been designed to work on the OMOP CDM v5.3 and developed in the University of North Carolina at Chapel Hill de-identified OMOP Research Data Repository, ORDR(D). Please see the README in the repo with important notes, clarifications, and assumptions.\n",
    "\n",
    "\n",
    "Author: Josh Fuchs\n",
    "\n",
    "Copyright 2025, The University of North Carolina at Chapel Hill. Permission is granted to use in accordance with the MIT license.\n",
    "The code is licensed under the open-source MIT license."
   ]
  },
  {
   "cell_type": "markdown",
   "id": "2d909013-852b-4eb0-b927-d0d46af17397",
   "metadata": {
    "tags": []
   },
   "source": [
    "# Load packages, connect to the database, define functions"
   ]
  },
  {
   "cell_type": "code",
   "execution_count": 1,
   "id": "8731f707-660b-401a-924b-fad8e94f612d",
   "metadata": {},
   "outputs": [],
   "source": [
    "import sqlalchemy\n",
    "import psycopg\n",
    "import pandas as pd\n",
    "import numpy as np\n",
    "\n",
    "from getpass import getpass\n",
    "from itertools import groupby"
   ]
  },
  {
   "cell_type": "code",
   "execution_count": 2,
   "id": "297e0ab2-c002-43b8-bfe7-a5736e929700",
   "metadata": {
    "tags": []
   },
   "outputs": [
    {
     "name": "stdin",
     "output_type": "stream",
     "text": [
      "enter username: jtfuchs\n",
      "enter password: ········\n"
     ]
    }
   ],
   "source": [
    "# prompt for username and password\n",
    "user_name = input('enter username:')\n",
    "user_password = getpass('enter password:')\n",
    "\n",
    "\n",
    "## configure connection\n",
    "conn = psycopg.connect(\n",
    "    host='od2-primary',\n",
    "    dbname='ordrd',\n",
    "    user=user_name,\n",
    "    password=user_password)"
   ]
  },
  {
   "cell_type": "code",
   "execution_count": 3,
   "id": "40be08c4-3921-4b5e-b665-f4ae8653e762",
   "metadata": {
    "tags": []
   },
   "outputs": [],
   "source": [
    "cursor = conn.cursor()"
   ]
  },
  {
   "cell_type": "code",
   "execution_count": 4,
   "id": "625a5583-5701-45fe-b1ca-245a15196300",
   "metadata": {
    "tags": []
   },
   "outputs": [],
   "source": [
    "def query_to_dataframe(query_string, column_names):\n",
    "    \"\"\"\n",
    "    Runs a SQL query on the database and returns the results\n",
    "    as a pandas DataFrame.\n",
    "    \n",
    "    PARAMETERS:\n",
    "    query_string : string\n",
    "        string formatted as a SQL command, to execute on the database\n",
    "        \n",
    "    column_name : list\n",
    "        list of strings for desired names of returned columns\n",
    "        length must match the number of columsn returned in the\n",
    "        query        \n",
    "        \n",
    "        If you are selecting all (*) columns from a single table,\n",
    "        this value can be None. In that case, this function will\n",
    "        query the table to get the column names and use those to\n",
    "        create the dataframe\n",
    "    \n",
    "    RETURNS:\n",
    "        conditional. If error with query, returns\n",
    "        \n",
    "        query_result : None\n",
    "        \n",
    "        if query is successful, returns\n",
    "        \n",
    "        query_df : pandas dataframe\n",
    "            DataFrame with column names set from column_names\n",
    "    \"\"\"\n",
    "    try:\n",
    "        cursor.execute(query_string)\n",
    "        query_result = cursor.fetchall()\n",
    "    except:\n",
    "        print(\"Error with SQL command\")\n",
    "        conn.rollback()\n",
    "        query_result = None    \n",
    "\n",
    "    if query_result is not None:\n",
    "        if column_names is None:\n",
    "            # first, get the table name\n",
    "            table_name = extract_substring(query_string).strip()\n",
    "            # build the query to get the column names\n",
    "            column_name_query = \"select column_name from information_schema.columns where table_name = '{}';\".format(table_name)\n",
    "            # execute the query\n",
    "            cursor.execute(column_name_query)\n",
    "            column_names_tuple = cursor.fetchall()\n",
    "            # convert tuples to strings\n",
    "            column_names = [' '.join(item) for item in column_names_tuple]\n",
    "        query_df = pd.DataFrame(query_result,columns=column_names)\n",
    "        return query_df\n",
    "    \n",
    "    return query_result"
   ]
  },
  {
   "cell_type": "code",
   "execution_count": 5,
   "id": "14e07a5b-fcac-4202-814c-c0c2f6a76d41",
   "metadata": {
    "tags": []
   },
   "outputs": [],
   "source": [
    "def extract_substring(query_string):\n",
    "    \"\"\"\n",
    "    Takes an input query string and returns the name of \n",
    "    the table that is being queried. Only works for a single\n",
    "    table. \n",
    "    \n",
    "    Example: if you are querying omop.measurement, this \n",
    "    will return measurement\n",
    "    \n",
    "    PARAMETERS:\n",
    "    query_string : string\n",
    "        query string\n",
    "        \n",
    "    RETURNS\n",
    "    table_string : string\n",
    "        table that is being queried. Found after omop.\n",
    "    \"\"\"\n",
    "    # Find the index of \"omop\"\n",
    "    start_index = query_string.find(\"omop\")\n",
    "    if start_index != -1:\n",
    "        # Find the index of the next space after \"omop\"\n",
    "        end_index = query_string.find(\" \", start_index)\n",
    "        if end_index != -1:\n",
    "            # Extract the desired substring\n",
    "            table_string = query_string[start_index + 4:end_index]\n",
    "            # the substring will begin with a .\n",
    "            # ignore that\n",
    "            return table_string[1:]\n",
    "    return None  # Return None if \"omop\" or space is not found"
   ]
  },
  {
   "cell_type": "code",
   "execution_count": 6,
   "id": "cf2f8e78-a103-435b-be1b-b2ae152f34d6",
   "metadata": {
    "tags": []
   },
   "outputs": [],
   "source": [
    "def split_list_to_dict(lst):\n",
    "    \"\"\"\n",
    "    Splits a Python list into a dictionary where the keys are the length of each entry\n",
    "    and the values are the corresponding entries.\n",
    "    \n",
    "    PARAMETERS:\n",
    "    lst : list\n",
    "        list of strings\n",
    "        \n",
    "    RETURNS\n",
    "    result_dict : dictionary\n",
    "        dictionary where keys are the length of entries in lst, and values are entries\n",
    "        in lst that correspond to that length\n",
    "    \"\"\"\n",
    "    result_dict = {}\n",
    "    for item in lst:\n",
    "        key = len(item)\n",
    "        if key not in result_dict:\n",
    "            result_dict[key] = []\n",
    "        result_dict[key].append(item)\n",
    "    return result_dict"
   ]
  },
  {
   "cell_type": "code",
   "execution_count": 7,
   "id": "a2323b30-14de-4068-a450-83939129cce7",
   "metadata": {
    "tags": []
   },
   "outputs": [],
   "source": [
    "def add_new_row(df):\n",
    "    \"\"\"\n",
    "    Adds a new row to the dataframe if the condition_source_value is 4373. This is to account\n",
    "    for 437.3 and 437 being listed as two sepate indicators in Quan et al. (2005). \n",
    "    \n",
    "    For patients with this condition, this function appends a row so that both formats\n",
    "    are included. \n",
    "    \n",
    "    PARAMETERS\n",
    "    df : pandas DataFrame\n",
    "    \n",
    "    RETURNS\n",
    "    new_df : pandas DataFrame\n",
    "    new rows are appended at the bottom of the input dataframe\n",
    "    \"\"\"\n",
    "    # Identify rows where condition_source_value is '4373'\n",
    "    mask = df['condition_source_value'] == '4373'\n",
    "    \n",
    "    # Create a new DataFrame with the same person_id and condition_source_value = '437'\n",
    "    new_row = df[mask].copy()\n",
    "    new_row['condition_source_value'] = '437'\n",
    "    \n",
    "    # Append the new row to the original DataFrame\n",
    "    new_df = pd.concat([df,new_row],ignore_index=True)\n",
    "    \n",
    "    return new_df"
   ]
  },
  {
   "cell_type": "code",
   "execution_count": 8,
   "id": "9b03796c-83ca-4ac7-94c1-e888d65abeb9",
   "metadata": {
    "tags": []
   },
   "outputs": [],
   "source": [
    "def calculate_score(condition_list,weight_col):\n",
    "    \"\"\"\n",
    "    Calculates the CCI given a list of conditions a patient has. If a condition appears twice in the condition_df,\n",
    "    then it will be counted twice here. \n",
    "      \n",
    "    PARAMETERS\n",
    "    condition_list : list\n",
    "        list of conditions a patient has diagnoses for\n",
    "        \n",
    "    weight_col : string\n",
    "        column in condition_df containing the weights for each condition group\n",
    "        \n",
    "    RETURNS\n",
    "    total_score : int\n",
    "        CCI for these conditions\n",
    "    \"\"\"\n",
    "    total_score = 0\n",
    "    \n",
    "    # iterate through the condition_df to go through,\n",
    "    # condition by condition, and see if any values in the\n",
    "    # condition list match any of the values for that particular\n",
    "    # condition. If so, sum the score for that condition to \n",
    "    # the overall score\n",
    "    for index, row in condition_df.iterrows():\n",
    "        if bool(set(condition_list).intersection(set(row['icd']))):\n",
    "            total_score += row[weight_col]\n",
    "    return total_score"
   ]
  },
  {
   "cell_type": "markdown",
   "id": "4aafb17c-8a1e-4751-adbe-384601a7893b",
   "metadata": {
    "tags": []
   },
   "source": [
    "# Build DataFrame for Conditions\n",
    "\n",
    "We'll build a pandas DataFrame that will store ICD codes and weights for each Charlson condition. \n",
    "\n",
    "First, create a dictionary with conditions, ICD codes, and weights.\n",
    "\n",
    "ICD codes: These are both ICD-9 and ICD-10 codes from Quan et al. (2005). These have been stripped of periods\n",
    "to make matching easier in the database. \n"
   ]
  },
  {
   "cell_type": "code",
   "execution_count": 9,
   "id": "5b875630-a740-43f8-ba11-12ccdf4c7dc0",
   "metadata": {
    "tags": []
   },
   "outputs": [],
   "source": [
    "\n",
    "columns = ['icd','charlson86_weight']\n",
    "\n",
    "condition_dictionary = {'myocardial infarction' : [['410','412','I21','I22','I252'],1],\n",
    "                        'congestive heart failure' : [['39891','40201','40211','40291','40401','40403','40411','40413','40491','40493',\n",
    "                                                       '4254','4255','4256','4257','4258','4259','428','I099','I110','I130','I132',\n",
    "                                                       'I255','I420','I425','I426','I427','I428','I429','P290','I43','I50'],1],\n",
    "                        'peripheral vascular disease' : [['0930','4373','4431','4432','4433','4434','4435','4436','4437','4438','4439',\n",
    "                                                          '4471','5571','5579','V434','440','441','I731','I738','I739','I771','I790',\n",
    "                                                          'I792','K551','K558','K559','Z958','Z959','I70','I71'],1],\n",
    "                        'cerebrovascular disease' : [['430','431','432','433','434','435','436','437','438','36234','G45','G46','I60',\n",
    "                                                      'I61','I62','I63','I64','I65','I66','I67','I68','I69','H340'],1],\n",
    "                        'dementia' : [['29410','29411','3312','290','F051','G311','F00','F01','F02','F03','G30'],1],\n",
    "                        'chronic pulmonary disease' : [['490','491','492','493','494','495','496','500','501','502','503','504','505',\n",
    "                                                        '4168','4169','5064','5081','5088','J40','J41','J42','J43','J44','J45','J46',\n",
    "                                                        'J47','J60','J61','J62','J63','J64','J65','J66','J67','I278','I279','J684',\n",
    "                                                        'J701','J703'],1],\n",
    "                        'connective tissue disease' : [['4465','7100','7101','7102','7103','7104','7140','7141','7142','7148','725','M315',\n",
    "                                                        'M351','M353','M360','M05','M32','M33','M34','M06'],1],\n",
    "                        'ulcer disease' : [['531','532','533','534','K25','K26','K27','K28'],1],\n",
    "                        'mild liver disease' : [['07022','07023','07032','07033','07044','07054','0706','0709','5733','5734','5738',\n",
    "                                                 '5739','V427','570','571','K700','K701','K702','K703','K709','K717','K713','K714',\n",
    "                                                 'K715','K760','K762','K763','K764','K768','K769','Z944','B18','K73','K74'],1],\n",
    "                        'diabetes without complications' : [['2500','2501','2502','2503','2508','2509','E100','E101','E106','E108',\n",
    "                                                             'E109','E110','E111','E116','E118','E119','E120','E121','E126','E128',\n",
    "                                                             'E129','E130','E131','E136','E138','E139','E140','E141','E146','E148',\n",
    "                                                             'E149'],1],\n",
    "                        'hemiplegia' : [['3341','3440','3441','3442','3443','3444','3445','3446','3449','342','343','G041','G114',\n",
    "                                         'G801','G802','G830','G831','G832','G833','G834','G839','G81','G82'],2],\n",
    "                        'renal disease' : [['40301','40311','40391','40402','40403','40412','40413','40492','40493','5830','5831',\n",
    "                                            '5832','5834','5836','5837','5880','V420','V451','582','585','586','V56','N18','N19',\n",
    "                                            'N052','N053','N054','N055','N056','N057','N250','I120','I131','N032','N033','N034',\n",
    "                                            'N035','N036','N037','Z490','Z491','Z492','Z940','Z992'],2],\n",
    "                        'diabetes with complications' : [['2504','2505','2506','2507','E102','E103','E104','E105','E107','E112',\n",
    "                                                          'E113','E114','E115','E117','E122','E123','E124','E125','E127','E132',\n",
    "                                                          'E133','E134','E135','E137','E142','E143','E144','E145','E147'],2],\n",
    "                        'cancer' : [['140','141','142','143','144','145','146','147','148','149','150','151','152','153','154','155',\n",
    "                                     '156','157','158','159','160','161','162','163','164','165','170','171','172','174','175','176',\n",
    "                                     '179','180','181','182','183','184','185','186','187','188','189','190','191','192','193','194',\n",
    "                                     '195','200','201','202','203','204','205','206','207','208','2386','C00','C01','C02','C03','C04',\n",
    "                                     'C05','C06','C07','C08','C09','C10','C11','C12','C13','C14','C15','C16','C17','C18','C19','C20',\n",
    "                                     'C21','C22','C23','C24','C25','C26','C30','C31','C32','C33','C34','C37','C38','C39','C40','C41',\n",
    "                                     'C43','C45','C46','C47','C48','C49','C50','C51','C52','C53','C54','C55','C56','C57','C58','C60',\n",
    "                                     'C61','C62','C63','C64','C65','C66','C67','C68','C69','C70','C71','C72','C73','C74','C75','C76',\n",
    "                                     'C81','C82','C83','C84','C85','C88','C90','C91','C92','C93','C94','C95','C96','C97'],2],\n",
    "                        'moderate or severe liver disease' : [['4560','4561','4562','5722','5723','5724','5728','K704','K711','K721',\n",
    "                                                               'K729','K765','K766','K767','I850','I859','I864','I982'],3],\n",
    "                        'metastatic cancer' : [['196','197','198','199','C77','C78','C79','C80'],6],\n",
    "                        'aids' : [['042','043','044','B20','B21','B22','B24'],6]\n",
    "}\n",
    "\n"
   ]
  },
  {
   "cell_type": "code",
   "execution_count": 10,
   "id": "4c02421a-397c-41f7-963e-d54b74bc55f4",
   "metadata": {
    "tags": []
   },
   "outputs": [
    {
     "data": {
      "text/html": [
       "<div>\n",
       "<style scoped>\n",
       "    .dataframe tbody tr th:only-of-type {\n",
       "        vertical-align: middle;\n",
       "    }\n",
       "\n",
       "    .dataframe tbody tr th {\n",
       "        vertical-align: top;\n",
       "    }\n",
       "\n",
       "    .dataframe thead th {\n",
       "        text-align: right;\n",
       "    }\n",
       "</style>\n",
       "<table border=\"1\" class=\"dataframe\">\n",
       "  <thead>\n",
       "    <tr style=\"text-align: right;\">\n",
       "      <th></th>\n",
       "      <th>icd</th>\n",
       "      <th>charlson86_weight</th>\n",
       "    </tr>\n",
       "  </thead>\n",
       "  <tbody>\n",
       "    <tr>\n",
       "      <th>myocardial infarction</th>\n",
       "      <td>[410, 412, I21, I22, I252]</td>\n",
       "      <td>1</td>\n",
       "    </tr>\n",
       "    <tr>\n",
       "      <th>congestive heart failure</th>\n",
       "      <td>[39891, 40201, 40211, 40291, 40401, 40403, 404...</td>\n",
       "      <td>1</td>\n",
       "    </tr>\n",
       "    <tr>\n",
       "      <th>peripheral vascular disease</th>\n",
       "      <td>[0930, 4373, 4431, 4432, 4433, 4434, 4435, 443...</td>\n",
       "      <td>1</td>\n",
       "    </tr>\n",
       "    <tr>\n",
       "      <th>cerebrovascular disease</th>\n",
       "      <td>[430, 431, 432, 433, 434, 435, 436, 437, 438, ...</td>\n",
       "      <td>1</td>\n",
       "    </tr>\n",
       "    <tr>\n",
       "      <th>dementia</th>\n",
       "      <td>[29410, 29411, 3312, 290, F051, G311, F00, F01...</td>\n",
       "      <td>1</td>\n",
       "    </tr>\n",
       "  </tbody>\n",
       "</table>\n",
       "</div>"
      ],
      "text/plain": [
       "                                                                           icd  \\\n",
       "myocardial infarction                               [410, 412, I21, I22, I252]   \n",
       "congestive heart failure     [39891, 40201, 40211, 40291, 40401, 40403, 404...   \n",
       "peripheral vascular disease  [0930, 4373, 4431, 4432, 4433, 4434, 4435, 443...   \n",
       "cerebrovascular disease      [430, 431, 432, 433, 434, 435, 436, 437, 438, ...   \n",
       "dementia                     [29410, 29411, 3312, 290, F051, G311, F00, F01...   \n",
       "\n",
       "                             charlson86_weight  \n",
       "myocardial infarction                        1  \n",
       "congestive heart failure                     1  \n",
       "peripheral vascular disease                  1  \n",
       "cerebrovascular disease                      1  \n",
       "dementia                                     1  "
      ]
     },
     "execution_count": 10,
     "metadata": {},
     "output_type": "execute_result"
    }
   ],
   "source": [
    "condition_df = pd.DataFrame.from_dict(condition_dictionary,orient='index',columns=columns)\n",
    "condition_df.head()"
   ]
  },
  {
   "cell_type": "markdown",
   "id": "b6c49453-a1a3-4936-a4fd-cc543042aa88",
   "metadata": {},
   "source": [
    "# Extract the ICD codes and reformat for querying\n",
    "\n",
    "Pull out the ICD codes from the DataFrame, combine into a single list, then split into a dictionary by length of code. \n"
   ]
  },
  {
   "cell_type": "code",
   "execution_count": 11,
   "id": "bcb91767-6abf-4536-8451-2c91b256e7ac",
   "metadata": {
    "tags": []
   },
   "outputs": [],
   "source": [
    "# extract ICD codes\n",
    "condition_list_icd = condition_df['icd'].to_list()\n",
    "\n",
    "# flatten list\n",
    "condition_list_icd = [item for sublist in condition_list_icd for item in sublist]\n",
    "\n",
    "# split list into dictionary by length of code\n",
    "condition_dictionary_icd = split_list_to_dict(condition_list_icd)\n"
   ]
  },
  {
   "cell_type": "code",
   "execution_count": null,
   "id": "8695115a-7839-4841-9afd-59de1ce54339",
   "metadata": {},
   "outputs": [],
   "source": []
  },
  {
   "cell_type": "markdown",
   "id": "d689aa5a-560c-43d3-bbb7-7c4e448ec492",
   "metadata": {},
   "source": [
    "## Query Database \n",
    "\n",
    "Next, we'll query the database using the ICD codes, returning a DataFrame for analysis. Logic:\n",
    "\n",
    "1) First, join bith dates for each person to condition_occurrence table, then only keep conditions that are (1) from the problem list and (2) when condition start date is on or after the birth date\n",
    "\n",
    "2) from this joined table, select rows where the condition_source_value matches any of the condition ICD codes and return those codes for downstream analysis\n",
    "\n",
    "This query takes all recorded diagnoses across the linespan of a patient. If you want to filter the database by a global date range, please see the next subsection."
   ]
  },
  {
   "cell_type": "code",
   "execution_count": 12,
   "id": "27a90081-033c-444d-aaa3-37281febbc97",
   "metadata": {
    "tags": []
   },
   "outputs": [],
   "source": [
    "condition_query = (\"\"\"\\\n",
    "                    with condition_start_filter as (\n",
    "                    select  vco.*\n",
    "                    from omop.v_condition_occurrence as vco\n",
    "                    left join omop.person as p\n",
    "                    on vco.person_id = p.person_id\n",
    "                    where condition_type_concept_id = 32840\n",
    "                    and (vco.condition_start_date - p.birth_datetime::date) >= 0\n",
    "                    )    \n",
    "                    Select DISTINCT person_id, \n",
    "                    CASE WHEN substring(translate(condition_source_value,'.',''),1,4) in ('4373') then '4373' \n",
    "                    WHEN substring(condition_source_value,1,3) in {0} then substring(condition_source_value,1,3)\n",
    "                    WHEN substring(translate(condition_source_value,'.',''),1,4) in {1} then substring(translate(condition_source_value,'.',''),1,4)\n",
    "                    WHEN substring(translate(condition_source_value,'.',''),1,5) in {2} then substring(translate(condition_source_value,'.',''),1,5)\n",
    "                    ELSE NULL END AS condition_source_value,\n",
    "                    condition_source_concept_vocabulary_id\n",
    "                    FROM condition_start_filter\n",
    "                    WHERE CASE\n",
    "                    WHEN substring(translate(condition_source_value,'.',''),1,4) in ('4373') then  1\n",
    "                    WHEN substring(condition_source_value,1,3) in {0} then 1\n",
    "                    when substring(translate(condition_source_value,'.',''),1,4) in {1} then 1 \n",
    "                    when substring(translate(condition_source_value,'.',''),1,5) in {2} then 1 \n",
    "                    ELSE 0\n",
    "                     END = 1;\n",
    "                    \"\"\").format(tuple(condition_dictionary_icd[3]),tuple(condition_dictionary_icd[4]),tuple(condition_dictionary_icd[5]))\n"
   ]
  },
  {
   "cell_type": "code",
   "execution_count": 13,
   "id": "2e605c14-b20e-4227-8a55-073fd217df15",
   "metadata": {
    "tags": []
   },
   "outputs": [],
   "source": [
    "\n",
    "column_names = ['person_id','condition_source_value','condition_source_concept_vocabulary_id']\n",
    "person_condition_df = query_to_dataframe(condition_query,column_names)\n"
   ]
  },
  {
   "cell_type": "markdown",
   "id": "b0acaffa-c5ba-4453-9c85-03f070a1aba6",
   "metadata": {
    "tags": []
   },
   "source": [
    "### Query With Date\n",
    "\n",
    "This query operates identically to the one above, but is restricted to a date range provides in the query. The dates are specified in lines 9 and 10 of the query:\n",
    "\n",
    "```\n",
    "and vco.condition_start_date >= '2015-01-03'  \n",
    "and vco.condition_start_date < '2016-01-03' \n",
    "```\n",
    "\n",
    "You can change the dates at the end of both of lines to set the range that you want to filter on. Dates must be formatted as YYYY-MM-DD. This filters the entire database. You should run this query instead of the one below, then continue with the notebook. "
   ]
  },
  {
   "cell_type": "code",
   "execution_count": 28,
   "id": "e20d9092-a385-49ad-9433-e2584766d19e",
   "metadata": {
    "tags": []
   },
   "outputs": [],
   "source": [
    "condition_query_with_daterange = (\"\"\"\\\n",
    "                    with condition_start_filter as (\n",
    "                    select  vco.*\n",
    "                    from omop.v_condition_occurrence as vco\n",
    "                    left join omop.person as p\n",
    "                    on vco.person_id = p.person_id\n",
    "                    where condition_type_concept_id = 32840\n",
    "                    and (vco.condition_start_date - p.birth_datetime::date) >= 0\n",
    "                    and vco.condition_start_date >= '2015-01-03'  \n",
    "                    and vco.condition_start_date < '2016-01-03' \n",
    "                    )    \n",
    "                    Select DISTINCT person_id, \n",
    "                    CASE WHEN substring(translate(condition_source_value,'.',''),1,4) in ('4373') then '4373' \n",
    "                    WHEN substring(condition_source_value,1,3) in {0} then substring(condition_source_value,1,3)\n",
    "                    WHEN substring(translate(condition_source_value,'.',''),1,4) in {1} then substring(translate(condition_source_value,'.',''),1,4)\n",
    "                    WHEN substring(translate(condition_source_value,'.',''),1,5) in {2} then substring(translate(condition_source_value,'.',''),1,5)\n",
    "                    ELSE NULL END AS condition_source_value,\n",
    "                    condition_source_concept_vocabulary_id\n",
    "                    FROM condition_start_filter\n",
    "                    WHERE CASE\n",
    "                    WHEN substring(translate(condition_source_value,'.',''),1,4) in ('4373') then  1\n",
    "                    WHEN substring(condition_source_value,1,3) in {0} then 1\n",
    "                    when substring(translate(condition_source_value,'.',''),1,4) in {1} then 1 \n",
    "                    when substring(translate(condition_source_value,'.',''),1,5) in {2} then 1 \n",
    "                    ELSE 0\n",
    "                     END = 1;\n",
    "                    \"\"\").format(tuple(condition_dictionary_icd[3]),tuple(condition_dictionary_icd[4]),tuple(condition_dictionary_icd[5]))\n"
   ]
  },
  {
   "cell_type": "code",
   "execution_count": 30,
   "id": "f72f8dd3-cb94-4053-9f47-92f70f570034",
   "metadata": {
    "tags": []
   },
   "outputs": [],
   "source": [
    "column_names_with_daterange = ['person_id','condition_source_value','condition_source_concept_vocabulary_id']\n",
    "person_condition_df = query_to_dataframe(condition_query_with_daterange,column_names_with_daterange)\n"
   ]
  },
  {
   "cell_type": "code",
   "execution_count": 32,
   "id": "e4808006-3d93-4ee1-bf8e-726335f9bc2a",
   "metadata": {
    "tags": []
   },
   "outputs": [
    {
     "data": {
      "text/plain": [
       "(152357, 3)"
      ]
     },
     "execution_count": 32,
     "metadata": {},
     "output_type": "execute_result"
    }
   ],
   "source": [
    "person_condition_df.shape"
   ]
  },
  {
   "cell_type": "markdown",
   "id": "12086b87-6cf7-4711-a26d-6f40f82a1d5f",
   "metadata": {},
   "source": [
    "# For condition 437.3, we need to list this twice in the person_condition_df\n",
    "\n",
    "Once as 4373 and once as 437. We don't need to do this for the other duplicated ICD-9 codes because the ```calculate_score``` function deals with those correctly because it is the same code listed twice, not slightly differently. "
   ]
  },
  {
   "cell_type": "code",
   "execution_count": 14,
   "id": "d2c0fca9-05fb-4737-a2fe-b38bcbc330c2",
   "metadata": {
    "tags": []
   },
   "outputs": [],
   "source": [
    "person_condition_df = add_new_row(person_condition_df)"
   ]
  },
  {
   "cell_type": "markdown",
   "id": "c2ee58da-9fc6-495e-88b3-b59e6d945db2",
   "metadata": {},
   "source": [
    "## Check that subset of conditions correspond to ICD9, not ICD10\n",
    "\n",
    "Check for the following conditions: V43.4, V42.7, V42.0, V45.1, V56.x\n",
    "\n",
    "These can correspond to codes in both ICD9 and ICD10, but for Charlson should be ICD9 codes (per Quan 2005). Therefore, remove rows where the condition is one of those and the source vocabulary is ICD10CM. "
   ]
  },
  {
   "cell_type": "code",
   "execution_count": 15,
   "id": "f8d11b38-dd01-499e-b437-45354035a0c1",
   "metadata": {
    "tags": []
   },
   "outputs": [],
   "source": [
    "# Filter out rows where condition_source is V42 or V44 and vocabulary_id is ICD10CM\n",
    "person_condition_df = person_condition_df[~((person_condition_df['condition_source_value'].isin(['V434', 'V427', 'V420','V451','V56'])) & \n",
    "                   (person_condition_df['condition_source_concept_vocabulary_id'] == 'ICD10CM'))]\n",
    "\n"
   ]
  },
  {
   "cell_type": "markdown",
   "id": "24b2fb5f-a689-4128-8edd-aebf136af8d5",
   "metadata": {},
   "source": [
    "# Group conditions by person_id"
   ]
  },
  {
   "cell_type": "code",
   "execution_count": 16,
   "id": "bd094a27-9b32-40d6-a50a-47f9f3aa4598",
   "metadata": {
    "tags": []
   },
   "outputs": [],
   "source": [
    "# use groupby to get a list of all conditions for each person\n",
    "person_condition_grouped_df = person_condition_df.groupby('person_id')['condition_source_value'].apply(list).reset_index()\n"
   ]
  },
  {
   "cell_type": "markdown",
   "id": "5a883f3c-0e7c-4443-84b2-a07d33af73af",
   "metadata": {},
   "source": [
    "# Calculate CCI based on conditions"
   ]
  },
  {
   "cell_type": "code",
   "execution_count": 17,
   "id": "15a41363-be12-417d-a690-cb420b2f0ef8",
   "metadata": {
    "tags": []
   },
   "outputs": [],
   "source": [
    "# specify column name for condition weights in the condition_df\n",
    "weight_column = 'charlson86_weight'\n",
    "\n",
    "person_condition_grouped_df['comorbidity_score'] = person_condition_grouped_df.apply(\n",
    "    lambda row: calculate_score(row['condition_source_value'],weight_column),axis=1)\n"
   ]
  },
  {
   "cell_type": "code",
   "execution_count": 18,
   "id": "269e1916-c99f-4e0e-b99f-cb28127ac0fb",
   "metadata": {
    "tags": []
   },
   "outputs": [
    {
     "data": {
      "text/plain": [
       "(789974, 3)"
      ]
     },
     "execution_count": 18,
     "metadata": {},
     "output_type": "execute_result"
    }
   ],
   "source": [
    "person_condition_grouped_df.shape"
   ]
  },
  {
   "cell_type": "code",
   "execution_count": 19,
   "id": "0b12372a-de61-4d47-a03c-cdbb360e6a83",
   "metadata": {
    "tags": []
   },
   "outputs": [],
   "source": [
    "#person_condition_grouped_df.to_csv('charlson_python.csv')"
   ]
  },
  {
   "cell_type": "code",
   "execution_count": null,
   "id": "30e2aa2e-e2c0-4f91-9c26-479721a1d106",
   "metadata": {},
   "outputs": [],
   "source": []
  }
 ],
 "metadata": {
  "kernelspec": {
   "display_name": "Python 3 (ipykernel)",
   "language": "python",
   "name": "python3"
  },
  "language_info": {
   "codemirror_mode": {
    "name": "ipython",
    "version": 3
   },
   "file_extension": ".py",
   "mimetype": "text/x-python",
   "name": "python",
   "nbconvert_exporter": "python",
   "pygments_lexer": "ipython3",
   "version": "3.12.4"
  }
 },
 "nbformat": 4,
 "nbformat_minor": 5
}
